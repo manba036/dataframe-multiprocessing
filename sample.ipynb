{
 "cells": [
  {
   "cell_type": "code",
   "execution_count": 1,
   "metadata": {},
   "outputs": [],
   "source": [
    "DATAFILE_PATH = './data/sample.txt'"
   ]
  },
  {
   "cell_type": "code",
   "execution_count": 2,
   "metadata": {},
   "outputs": [],
   "source": [
    "import json\n",
    "import numpy as np\n",
    "from multiprocessing import Pool"
   ]
  },
  {
   "cell_type": "code",
   "execution_count": 3,
   "metadata": {},
   "outputs": [],
   "source": [
    "# ベクトル計算\n",
    "def calc_vector(args):\n",
    "    vec = np.array([ 0, 0 ])\n",
    "\n",
    "    try:\n",
    "        data = json.loads(args['data'])\n",
    "        for feature in data['features']:\n",
    "            vec += np.array(feature['layers'][0]['value'])\n",
    "    except:\n",
    "        print(\"Error\")\n",
    "        vec = None\n",
    "\n",
    "    print(args['index'], vec)\n",
    "    return vec"
   ]
  },
  {
   "cell_type": "code",
   "execution_count": 4,
   "metadata": {},
   "outputs": [
    {
     "name": "stdout",
     "output_type": "stream",
     "text": [
      "0 [0 0]\n",
      "1 [1 1]\n",
      "2 [2 2]\n",
      "4 [4 4]\n",
      "5 [5 5]\n",
      "3 [3 3]\n",
      "7 [7 7]\n",
      "8 [8 8]\n",
      "9 [9 9]\n",
      "6 [6 6]\n",
      "Error\n"
     ]
    }
   ],
   "source": [
    "# ベクトル計算を並列処理\n",
    "with open(DATAFILE_PATH, 'r') as fin:\n",
    "    with Pool() as p:\n",
    "        ret_list = p.map(\n",
    "            calc_vector,\n",
    "            [ { 'index': index, 'data': data } for index, data in enumerate(fin) ]\n",
    "            )"
   ]
  },
  {
   "cell_type": "code",
   "execution_count": 5,
   "metadata": {},
   "outputs": [
    {
     "name": "stdout",
     "output_type": "stream",
     "text": [
      "0 [0 0]\n",
      "1 [1 1]\n",
      "2 [2 2]\n",
      "3 [3 3]\n",
      "4 [4 4]\n",
      "5 [5 5]\n",
      "6 [6 6]\n",
      "7 [7 7]\n",
      "8 [8 8]\n",
      "9 [9 9]\n",
      "10 None\n"
     ]
    }
   ],
   "source": [
    "# 結果の確認\n",
    "for index, ret in enumerate(ret_list):\n",
    "    print(index, ret)"
   ]
  },
  {
   "cell_type": "code",
   "execution_count": null,
   "metadata": {},
   "outputs": [],
   "source": []
  }
 ],
 "metadata": {
  "kernelspec": {
   "display_name": "Python 3",
   "language": "python",
   "name": "python3"
  },
  "language_info": {
   "codemirror_mode": {
    "name": "ipython",
    "version": 3
   },
   "file_extension": ".py",
   "mimetype": "text/x-python",
   "name": "python",
   "nbconvert_exporter": "python",
   "pygments_lexer": "ipython3",
   "version": "3.6.8"
  }
 },
 "nbformat": 4,
 "nbformat_minor": 4
}
